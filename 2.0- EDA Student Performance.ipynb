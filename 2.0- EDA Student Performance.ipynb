{
 "cells": [
  {
   "cell_type": "markdown",
   "id": "6ca66986-302a-4922-9362-05bea536477f",
   "metadata": {},
   "source": [
    "## EDA Student Performance Indicator\n",
    "\n",
    "### 1) Problem statement\n",
    "- This project understands how the student's performance (test scores) is affected by other variables such as Gender, Ethnicity, Parental level of education, Lunch and Test preparation course.\n",
    "\n",
    "\n",
    "### 2) Data Collection\n",
    "- Dataset Source - https://www.kaggle.com/datasets/spscientist/students-performance-in-exams?datasetId=74977\n",
    "- The data consists of 8 column and 1000 rows.\n",
    "\n",
    "### 3) Dataset Information\n",
    "- gender : sex of students  -> (Male/female)\n",
    "- race/ethnicity : ethnicity of students -> (Group A, B,C, D,E)\n",
    "- parental level of education : parents' final education ->(bachelor's degree,some college,master's degree,associate's degree,high school)\n",
    "- lunch : having lunch before test (standard or free/reduced) \n",
    "- test preparation course : complete or not complete before test\n",
    "- math score\n",
    "- reading score\n",
    "- writing score"
   ]
  },
  {
   "cell_type": "code",
   "execution_count": null,
   "id": "3e26bb00-8aee-4d4e-96a2-cb59213221cd",
   "metadata": {},
   "outputs": [],
   "source": [
    "import pandas as pd\n",
    "import numpy as np\n",
    "import seaborn as sns\n",
    "import matplotlib.pyplot as plt\n",
    "%matplotlib inline\n",
    "import warnings\n",
    "warnings.filterwarnings('ignore')"
   ]
  },
  {
   "cell_type": "code",
   "execution_count": null,
   "id": "5d9ebd78-a60a-46d3-90d9-b2cb52d57ded",
   "metadata": {},
   "outputs": [],
   "source": [
    "# Read the dataset\n",
    "df=pd.read_csv('stud.csv')\n",
    "df"
   ]
  },
  {
   "cell_type": "code",
   "execution_count": null,
   "id": "cea56907-00ea-4081-829f-d5ba9080e824",
   "metadata": {},
   "outputs": [],
   "source": [
    "df.shape"
   ]
  },
  {
   "cell_type": "markdown",
   "id": "6024b5a8-8036-4b87-afc8-39869139442e",
   "metadata": {},
   "source": [
    "### 3. Data Checks to perform\n",
    "\n",
    "- Check Missing values\n",
    "- Check Duplicates\n",
    "- Check data type\n",
    "- Check the number of unique values of each column\n",
    "- Check statistics of data set\n",
    "- Check various categories present in the different categorical column"
   ]
  },
  {
   "cell_type": "code",
   "execution_count": null,
   "id": "3bc38f6c-895f-4ebd-ac42-9de601e09876",
   "metadata": {},
   "outputs": [],
   "source": [
    "## check missing Values\n",
    "df.isna().sum()"
   ]
  },
  {
   "cell_type": "markdown",
   "id": "b4b8bd48-8a78-495e-a24f-8a87b0d385b9",
   "metadata": {},
   "source": [
    "## Insights or Observation\n",
    "There are no missing values"
   ]
  },
  {
   "cell_type": "code",
   "execution_count": null,
   "id": "b1900cfc-c039-4e08-9b4c-8c28eaf4e2f9",
   "metadata": {},
   "outputs": [],
   "source": [
    "df.isna().sum()"
   ]
  },
  {
   "cell_type": "code",
   "execution_count": null,
   "id": "f654b28f-aec7-4c43-87ea-f7ce7a022095",
   "metadata": {},
   "outputs": [],
   "source": [
    "## Check Duplicates\n",
    "df.duplicated().sum()    "
   ]
  },
  {
   "cell_type": "markdown",
   "id": "25fb05ed-3384-41c2-a573-25b7995f9c1c",
   "metadata": {},
   "source": [
    "There are no duplicates values in the dataset"
   ]
  },
  {
   "cell_type": "code",
   "execution_count": null,
   "id": "2e2a1199-aa65-48b7-a2ea-c35fc4c371f7",
   "metadata": {},
   "outputs": [],
   "source": [
    "## check datatypes\n",
    "df.info()"
   ]
  },
  {
   "cell_type": "code",
   "execution_count": null,
   "id": "5a3bcb26-6fd6-43ac-97d0-fc28cc159119",
   "metadata": {},
   "outputs": [],
   "source": [
    "## 3.1 Checking the number of uniques values of each columns\n",
    "df.nunique()         #Count number of distinct elements in specified axis. (here col)"
   ]
  },
  {
   "cell_type": "code",
   "execution_count": null,
   "id": "353a0d24-fdff-4bc2-8987-d9f2e8f7f61b",
   "metadata": {},
   "outputs": [],
   "source": [
    "## Check the statistics of the dataset\n",
    "df.describe()"
   ]
  },
  {
   "cell_type": "markdown",
   "id": "e227bf92-5069-4133-bd38-fb1a16214c86",
   "metadata": {},
   "source": [
    "## Insights or Observation\n",
    "- From the above description of numerical data,all means are very close to each other- between 66 and 69\n",
    "- All the standard deviation are also close- between 14.6- 15.19\n",
    "- While there is a minimum of 0 for maths,other are having 17 and 10 value"
   ]
  },
  {
   "cell_type": "code",
   "execution_count": null,
   "id": "620ca666-620c-432a-908e-cfdafacd74a7",
   "metadata": {},
   "outputs": [],
   "source": [
    "## Explore more info about the data\n",
    "df.head()"
   ]
  },
  {
   "cell_type": "code",
   "execution_count": null,
   "id": "b09991c6-4389-429c-84ab-ed6a743e4fe1",
   "metadata": {},
   "outputs": [],
   "source": [
    "df.tail()"
   ]
  },
  {
   "cell_type": "code",
   "execution_count": null,
   "id": "77069ae1-70ba-4bd5-99be-8bd12528562e",
   "metadata": {},
   "outputs": [],
   "source": [
    "[feature for feature in df.columns if df[feature].dtype=='O']"
   ]
  },
  {
   "cell_type": "code",
   "execution_count": null,
   "id": "f8cedeec-4190-434d-8246-eaa52e3cb779",
   "metadata": {},
   "outputs": [],
   "source": [
    "#segrregate numerical and categorical features\n",
    "numerical_features=[feature for feature in df.columns if df[feature].dtype!='O']\n",
    "categorical_feature=[feature for feature in df.columns if df[feature].dtype=='O']"
   ]
  },
  {
   "cell_type": "code",
   "execution_count": null,
   "id": "795e524d-ac44-41da-a1a2-e6333f4f1888",
   "metadata": {},
   "outputs": [],
   "source": [
    "numerical_features"
   ]
  },
  {
   "cell_type": "code",
   "execution_count": null,
   "id": "98310112-3ca8-4333-8110-0c268f6879d1",
   "metadata": {},
   "outputs": [],
   "source": [
    "categorical_feature"
   ]
  },
  {
   "cell_type": "code",
   "execution_count": null,
   "id": "a73d4a02-a007-4113-a520-090062704ae9",
   "metadata": {},
   "outputs": [],
   "source": [
    "df['gender'].value_counts()"
   ]
  },
  {
   "cell_type": "code",
   "execution_count": null,
   "id": "19a8d8a7-21d8-4f70-84b5-559257b7e5ca",
   "metadata": {},
   "outputs": [],
   "source": [
    "df['race_ethnicity'].value_counts()"
   ]
  },
  {
   "cell_type": "code",
   "execution_count": null,
   "id": "1a59f6da-d622-4cf3-be5f-e07abd896964",
   "metadata": {},
   "outputs": [],
   "source": [
    "## Aggregate the total score with mean\n",
    "\n",
    "df['total_score']=(df['math_score']+df['reading_score']+df['writing_score'])\n",
    "df['average']=df['total_score']/3\n",
    "df.head()"
   ]
  },
  {
   "cell_type": "raw",
   "id": "7a8660b0-0c34-4b81-8213-18208a06061a",
   "metadata": {},
   "source": [
    "Use of the hue Parameter in Seaborn\n",
    "The hue parameter in Seaborn is used to add an additional categorical variable to the plot, which will be represented by different colors. This allows you to distinguish subsets of data within the main categories, making your plots more informative and easier to interpret.\n",
    "\n",
    "Key Concepts"
   ]
  },
  {
   "cell_type": "code",
   "execution_count": null,
   "id": "d5d031ea-6b98-46b3-aadf-97e4b92ddc85",
   "metadata": {},
   "outputs": [],
   "source": [
    "### Explore More Visualization\n",
    "fig,axis=plt.subplots(1,2,figsize=(15,7))\n",
    "plt.subplot(121)\n",
    "sns.histplot(data=df,x='average',bins=30,kde=True,color='g')\n",
    "plt.subplot(122)\n",
    "sns.histplot(data=df,x='average',bins=30,kde=True,hue='gender')"
   ]
  },
  {
   "cell_type": "markdown",
   "id": "61022f9d-700f-41f5-ac8e-fd6808a07c25",
   "metadata": {},
   "source": [
    "fig, axis: This line initializes a figure and its axes. fig is a reference to the entire figure, while axis is an array of axes objects. In this case, since subplot(1, 2, ...) is specified, axis will contain two elements, one for each subplot.\n",
    "plt.subplots(1, 2, figsize=(15, 7)): This function call creates a figure and a set of subplots. (1, 2) indicates that there will be 1 row and 2 columns of subplots, and figsize=(15, 7) sets the size of the figure to be 15 inches wide and 7 inches high.\n",
    "\n",
    "plt.subplot(121): This line specifies that subsequent plotting commands will be drawn on the first subplot (1 row, 2 columns, and this is the first subplot). The 121 is a shorthand for 1, 2, 1."
   ]
  },
  {
   "cell_type": "code",
   "execution_count": null,
   "id": "5404e517-7340-412d-9b68-36837cefc2e4",
   "metadata": {},
   "outputs": [],
   "source": [
    "fig"
   ]
  },
  {
   "cell_type": "code",
   "execution_count": null,
   "id": "3fa0de5b-5c81-4f50-af55-bb9755f4c757",
   "metadata": {},
   "outputs": [],
   "source": [
    "axis"
   ]
  },
  {
   "cell_type": "markdown",
   "id": "14097f2f-b0cb-4977-bfa4-d121e112c063",
   "metadata": {},
   "source": [
    "## Insights\n",
    "- Female student tend to perform well than male students"
   ]
  },
  {
   "cell_type": "code",
   "execution_count": null,
   "id": "95d20a0a-b3c2-4cde-9048-1bb5379949c9",
   "metadata": {},
   "outputs": [],
   "source": [
    "plt.subplots(1,3,figsize=(25,6))\n",
    "plt.subplot(131)\n",
    "sns.histplot(data=df,x='average',kde=True,hue='lunch')\n",
    "plt.subplot(132)\n",
    "sns.histplot(data=df[df.gender=='female'],x='average',kde=True,hue='lunch')\n",
    "plt.subplot(133)\n",
    "sns.histplot(data=df[df.gender=='male'],x='average',kde=True,hue='lunch')"
   ]
  },
  {
   "cell_type": "markdown",
   "id": "5674596a-eb3a-4f72-9b13-2af6fd0fb55e",
   "metadata": {},
   "source": [
    "## Insights\n",
    "- Standard Lunch help students perform well in exams\n",
    "- Standard lunch helps perform well in exams be it a male of female"
   ]
  },
  {
   "cell_type": "code",
   "execution_count": null,
   "id": "1326af0a-2605-44cf-98a5-25645a9d1f42",
   "metadata": {},
   "outputs": [],
   "source": [
    "df.head()"
   ]
  },
  {
   "cell_type": "code",
   "execution_count": null,
   "id": "99f214ea-ce43-4668-bc52-65d60db9772f",
   "metadata": {},
   "outputs": [],
   "source": [
    "plt.subplots(1,3,figsize=(25,6))\n",
    "plt.subplot(141)\n",
    "sns.histplot(data=df,x='average',kde=True,hue='parental_level_of_education')\n",
    "plt.subplot(142)\n",
    "sns.histplot(data=df[df.gender=='female'],x='average',kde=True,hue='parental_level_of_education')\n",
    "plt.subplot(143)\n",
    "sns.histplot(data=df[df.gender=='male'],x='average',kde=True,hue='parental_level_of_education')"
   ]
  },
  {
   "cell_type": "markdown",
   "id": "834f15a0-5246-4fd7-8418-91593c100e45",
   "metadata": {},
   "source": [
    "#####  Insights\n",
    "- In general parent's education don't help student perform well in exam.\n",
    "- 3rd plot shows that parent's whose education is of associate's degree or master's degree their male child tend to perform well in exam\n",
    "- 2nd plot we can see there is no effect of parent's education on female students."
   ]
  },
  {
   "cell_type": "markdown",
   "id": "21d1ed51-b2fb-4c45-a458-a62987d8dbcd",
   "metadata": {},
   "source": [
    "As red and blue line are left skewed in 3rd plot"
   ]
  },
  {
   "cell_type": "code",
   "execution_count": null,
   "id": "7e56b438-8699-47ac-ba24-2f1a2cc007ec",
   "metadata": {},
   "outputs": [],
   "source": [
    "plt.subplots(1,3,figsize=(25,6))\n",
    "plt.subplot(141)\n",
    "ax =sns.histplot(data=df,x='average',kde=True,hue='race_ethnicity')\n",
    "plt.subplot(142)\n",
    "ax =sns.histplot(data=df[df.gender=='female'],x='average',kde=True,hue='race_ethnicity')\n",
    "plt.subplot(143)\n",
    "ax =sns.histplot(data=df[df.gender=='male'],x='average',kde=True,hue='race_ethnicity')\n",
    "plt.show()"
   ]
  },
  {
   "cell_type": "markdown",
   "id": "e91fc709-9722-4a5c-beb9-31cf16f878ba",
   "metadata": {},
   "source": [
    "#####  Insights\n",
    "- Students of group A and group B tends to perform poorly in exam.\n",
    "- Students of group A and group B tends to perform poorly in exam irrespective of whether they are male or female"
   ]
  },
  {
   "cell_type": "raw",
   "id": "d395ca94-21e5-4e87-9c7e-c7b9cee894b2",
   "metadata": {},
   "source": [
    "Using element=\"step\" in sns.histplot\n",
    "The element parameter in sns.histplot allows you to customize the appearance of histogram elements. When set to \"step\", it changes the histogram bars into step-like lines, which can provide a clearer view of the data distribution, especially when overlaying multiple distributions."
   ]
  },
  {
   "cell_type": "code",
   "execution_count": null,
   "id": "65a2577c-397c-46e9-b87a-75d89fd66e4c",
   "metadata": {},
   "outputs": [],
   "source": [
    "plt.subplots(1, 3, figsize=(25, 6))\n",
    "plt.subplot(141)\n",
    "ax = sns.histplot(data=df, x='average', kde=True, hue='race_ethnicity', element='step')\n",
    "plt.subplot(142)\n",
    "ax = sns.histplot(data=df[df.gender=='female'], x='average', kde=True, hue='race_ethnicity', element='step')\n",
    "plt.subplot(143)\n",
    "ax = sns.histplot(data=df[df.gender=='male'], x='average', kde=True, hue='race_ethnicity', element='step')\n",
    "plt.show()\n"
   ]
  },
  {
   "cell_type": "code",
   "execution_count": null,
   "id": "0a41484f-b4a3-4877-ab18-c34df41c1cf7",
   "metadata": {},
   "outputs": [],
   "source": [
    "sns.heatmap(df.corr(),annot=True)"
   ]
  },
  {
   "cell_type": "code",
   "execution_count": null,
   "id": "cfe5c09e-38f3-4c33-ad12-f3a75c38c3e1",
   "metadata": {},
   "outputs": [],
   "source": []
  }
 ],
 "metadata": {
  "kernelspec": {
   "display_name": "Python 3 (ipykernel)",
   "language": "python",
   "name": "python3"
  },
  "language_info": {
   "codemirror_mode": {
    "name": "ipython",
    "version": 3
   },
   "file_extension": ".py",
   "mimetype": "text/x-python",
   "name": "python",
   "nbconvert_exporter": "python",
   "pygments_lexer": "ipython3",
   "version": "3.10.8"
  }
 },
 "nbformat": 4,
 "nbformat_minor": 5
}
